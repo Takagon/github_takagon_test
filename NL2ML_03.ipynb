{
  "nbformat": 4,
  "nbformat_minor": 0,
  "metadata": {
    "colab": {
      "name": "NL2ML_03.ipynb",
      "provenance": [],
      "authorship_tag": "ABX9TyMZTo6Fg5ToAr6E0x4ziHgv",
      "include_colab_link": true
    },
    "kernelspec": {
      "name": "python3",
      "display_name": "Python 3"
    }
  },
  "cells": [
    {
      "cell_type": "markdown",
      "metadata": {
        "id": "view-in-github",
        "colab_type": "text"
      },
      "source": [
        "<a href=\"https://colab.research.google.com/github/Takagon/github_takagon_test/blob/master/NL2ML_03.ipynb\" target=\"_parent\"><img src=\"https://colab.research.google.com/assets/colab-badge.svg\" alt=\"Open In Colab\"/></a>"
      ]
    },
    {
      "cell_type": "code",
      "metadata": {
        "id": "zr0sfUXB-sm4",
        "colab_type": "code",
        "colab": {}
      },
      "source": [
        "def tor_func(x):\n",
        "  w = [1.0, 1.0, 1.0]\n",
        "  theta = 1\n",
        "  h = 0\n",
        "  for i in range(3):\n",
        "    h = h + x[i] * w[i]\n",
        "  if h > theta:\n",
        "    return 1\n",
        "  else:\n",
        "    return 0"
      ],
      "execution_count": 3,
      "outputs": []
    },
    {
      "cell_type": "code",
      "metadata": {
        "id": "N0_HNWy0AxDw",
        "colab_type": "code",
        "colab": {
          "base_uri": "https://localhost:8080/",
          "height": 35
        },
        "outputId": "d23135e0-5c42-49ad-8f0c-cfe2a6d897ef"
      },
      "source": [
        "print(tor_func([1,0,0]))"
      ],
      "execution_count": 6,
      "outputs": [
        {
          "output_type": "stream",
          "text": [
            "0\n"
          ],
          "name": "stdout"
        }
      ]
    }
  ]
}