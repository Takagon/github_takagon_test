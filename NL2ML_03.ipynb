{
  "nbformat": 4,
  "nbformat_minor": 0,
  "metadata": {
    "colab": {
      "name": "NL2ML_03.ipynb",
      "provenance": [],
      "authorship_tag": "ABX9TyM2FGm0werNslmGNxp8tx27",
      "include_colab_link": true
    },
    "kernelspec": {
      "name": "python3",
      "display_name": "Python 3"
    }
  },
  "cells": [
    {
      "cell_type": "markdown",
      "metadata": {
        "id": "view-in-github",
        "colab_type": "text"
      },
      "source": [
        "<a href=\"https://colab.research.google.com/github/Takagon/github_takagon_test/blob/master/NL2ML_03.ipynb\" target=\"_parent\"><img src=\"https://colab.research.google.com/assets/colab-badge.svg\" alt=\"Open In Colab\"/></a>"
      ]
    },
    {
      "cell_type": "code",
      "metadata": {
        "id": "h4enin0c80Wc",
        "colab_type": "code",
        "colab": {}
      },
      "source": [
        "import math\n",
        "import numpy as np\n",
        "from sklearn.metrics import confusion_matrix"
      ],
      "execution_count": 54,
      "outputs": []
    },
    {
      "cell_type": "code",
      "metadata": {
        "id": "m7UIq45MGxuq",
        "colab_type": "code",
        "colab": {}
      },
      "source": [
        "X = np.array([[0,0,0],[0,0,1],[0,1,0],[0,1,1],[1,0,0],[1,0,1],[1,1,0],[1,1,1]])\n",
        "y = np.array([0,1,1,1,1,1,1,1])"
      ],
      "execution_count": 40,
      "outputs": []
    },
    {
      "cell_type": "code",
      "metadata": {
        "id": "Kkzkn8svCR53",
        "colab_type": "code",
        "colab": {}
      },
      "source": [
        "def perceptron(w,x):\n",
        "  xT = np.array(x, ndmin=2).T\n",
        "  h = np.dot(w[:3], xT)+w[3]\n",
        "  return 1*(h>0)"
      ],
      "execution_count": 45,
      "outputs": []
    },
    {
      "cell_type": "code",
      "metadata": {
        "id": "xiMO-XxAF7pQ",
        "colab_type": "code",
        "colab": {
          "base_uri": "https://localhost:8080/",
          "height": 35
        },
        "outputId": "d7ed50eb-1d59-4cf6-d748-64af3c906c6f"
      },
      "source": [
        "w = np.random.rand(4)\n",
        "learning_rate = 0.01\n",
        "epoch = 100\n",
        "print(w)"
      ],
      "execution_count": 56,
      "outputs": [
        {
          "output_type": "stream",
          "text": [
            "[0.27176916 0.31619156 0.22000378 0.19310165]\n"
          ],
          "name": "stdout"
        }
      ]
    },
    {
      "cell_type": "code",
      "metadata": {
        "id": "Di3ulj84GWik",
        "colab_type": "code",
        "colab": {
          "base_uri": "https://localhost:8080/",
          "height": 53
        },
        "outputId": "4400dc3a-202e-4c70-b88c-567753eede26"
      },
      "source": [
        "y_pred = perceptron(w,X)\n",
        "confusion_matrix(y, y_pred)"
      ],
      "execution_count": 48,
      "outputs": [
        {
          "output_type": "execute_result",
          "data": {
            "text/plain": [
              "array([[0, 1],\n",
              "       [0, 7]])"
            ]
          },
          "metadata": {
            "tags": []
          },
          "execution_count": 48
        }
      ]
    },
    {
      "cell_type": "code",
      "metadata": {
        "id": "KQG4AW0gLmOn",
        "colab_type": "code",
        "colab": {
          "base_uri": "https://localhost:8080/",
          "height": 35
        },
        "outputId": "faf27d07-9141-48c6-892e-a92472c33be1"
      },
      "source": [
        "for i in range(epoch):\n",
        "    for j in range(len(y)):\n",
        "        error = y[j] - perceptron(w, X[j])\n",
        "        for k in range(len(w)):\n",
        "            if k==3:\n",
        "                w[k] += error*learning_rate*1\n",
        "            else:\n",
        "                w[k] += error*learning_rate*X[j,k]\n",
        "print(w)"
      ],
      "execution_count": 57,
      "outputs": [
        {
          "output_type": "stream",
          "text": [
            "[ 0.27176916  0.31619156  0.22000378 -0.00689835]\n"
          ],
          "name": "stdout"
        }
      ]
    },
    {
      "cell_type": "code",
      "metadata": {
        "id": "3I8cclUrLyuq",
        "colab_type": "code",
        "colab": {
          "base_uri": "https://localhost:8080/",
          "height": 53
        },
        "outputId": "1ff99a46-ee9b-4888-bec6-fc88509056cb"
      },
      "source": [
        "y_pred = perceptron(w,X)\n",
        "confusion_matrix(y, y_pred)"
      ],
      "execution_count": 64,
      "outputs": [
        {
          "output_type": "execute_result",
          "data": {
            "text/plain": [
              "array([[1, 0],\n",
              "       [0, 7]])"
            ]
          },
          "metadata": {
            "tags": []
          },
          "execution_count": 64
        }
      ]
    },
    {
      "cell_type": "code",
      "metadata": {
        "id": "cnBc6f6-84cm",
        "colab_type": "code",
        "colab": {}
      },
      "source": [
        "def sigmoid(h):\n",
        "  return 1 / (1 + math.e**-h)"
      ],
      "execution_count": 65,
      "outputs": []
    },
    {
      "cell_type": "code",
      "metadata": {
        "id": "cBuv1AHEMqdK",
        "colab_type": "code",
        "colab": {}
      },
      "source": [
        "def tor_func(x):\n",
        "  h = 0\n",
        "  for i in range(3):\n",
        "    h = h + w[i] * x[i]\n",
        "  h += w[3]\n",
        "  return sigmoid(h)"
      ],
      "execution_count": 74,
      "outputs": []
    },
    {
      "cell_type": "code",
      "metadata": {
        "id": "N0_HNWy0AxDw",
        "colab_type": "code",
        "colab": {
          "base_uri": "https://localhost:8080/",
          "height": 161
        },
        "outputId": "1020f501-2916-4a26-d18b-c9e001ee428c"
      },
      "source": [
        "print(tor_func(np.array([0,0,0])))\n",
        "print(tor_func(np.array([0,0,1])))\n",
        "print(tor_func(np.array([0,1,0])))\n",
        "print(tor_func(np.array([0,1,1])))\n",
        "print(tor_func(np.array([1,0,0])))\n",
        "print(tor_func(np.array([1,0,1])))\n",
        "print(tor_func(np.array([1,1,0])))\n",
        "print(tor_func(np.array([1,1,1])))"
      ],
      "execution_count": 75,
      "outputs": [
        {
          "output_type": "stream",
          "text": [
            "0.4982754198619688\n",
            "0.5530756455109733\n",
            "0.5767127327668243\n",
            "0.6293191315955057\n",
            "0.5658332653246033\n",
            "0.618898275459054\n",
            "0.6413118206878387\n",
            "0.6902024945098549\n"
          ],
          "name": "stdout"
        }
      ]
    }
  ]
}