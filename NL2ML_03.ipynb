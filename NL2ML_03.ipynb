{
  "nbformat": 4,
  "nbformat_minor": 0,
  "metadata": {
    "colab": {
      "name": "NL2ML_03.ipynb",
      "provenance": [],
      "authorship_tag": "ABX9TyPmhW1oSOnvEMTpRjpBqHst",
      "include_colab_link": true
    },
    "kernelspec": {
      "name": "python3",
      "display_name": "Python 3"
    }
  },
  "cells": [
    {
      "cell_type": "markdown",
      "metadata": {
        "id": "view-in-github",
        "colab_type": "text"
      },
      "source": [
        "<a href=\"https://colab.research.google.com/github/Takagon/github_takagon_test/blob/master/NL2ML_03.ipynb\" target=\"_parent\"><img src=\"https://colab.research.google.com/assets/colab-badge.svg\" alt=\"Open In Colab\"/></a>"
      ]
    },
    {
      "cell_type": "code",
      "metadata": {
        "id": "h4enin0c80Wc",
        "colab_type": "code",
        "colab": {}
      },
      "source": [
        "import math"
      ],
      "execution_count": 20,
      "outputs": []
    },
    {
      "cell_type": "code",
      "metadata": {
        "id": "zr0sfUXB-sm4",
        "colab_type": "code",
        "colab": {}
      },
      "source": [
        "def tor_func(x):\n",
        "  w = [1.0, 1.0, 1.0]\n",
        "  theta = 0.5\n",
        "  h = 0\n",
        "  for i in range(3):\n",
        "    h = h + x[i] * w[i]\n",
        "  h = h - theta\n",
        "  return sigmoid(h)"
      ],
      "execution_count": 21,
      "outputs": []
    },
    {
      "cell_type": "code",
      "metadata": {
        "id": "cnBc6f6-84cm",
        "colab_type": "code",
        "colab": {}
      },
      "source": [
        "def sigmoid(h):\n",
        "  return 1 / (1 + math.e**-h)"
      ],
      "execution_count": 25,
      "outputs": []
    },
    {
      "cell_type": "code",
      "metadata": {
        "id": "N0_HNWy0AxDw",
        "colab_type": "code",
        "colab": {
          "base_uri": "https://localhost:8080/",
          "height": 34
        },
        "outputId": "49a72025-8eef-4477-f700-853c73228b83"
      },
      "source": [
        "print(tor_func([1,0,0]))"
      ],
      "execution_count": 26,
      "outputs": [
        {
          "output_type": "stream",
          "text": [
            "0.6224593312018546\n"
          ],
          "name": "stdout"
        }
      ]
    }
  ]
}